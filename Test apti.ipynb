{
 "cells": [
  {
   "cell_type": "code",
   "execution_count": 3,
   "id": "39439a64",
   "metadata": {},
   "outputs": [
    {
     "name": "stdout",
     "output_type": "stream",
     "text": [
      "2002,2009,2016,2023,2037,2044,2051,2058,2072,2079,2086,2093,2107,2114,2121,2128,2142,2149,2156,2163,2177,2184,2191,2198,2212,2219,2226,2233,2247,2254,2261,2268,2282,2289,2296,2303,2317,2324,2331,2338,2352,2359,2366,2373,2387,2394,2401,2408,2422,2429,2436,2443,2457,2464,2471,2478,2492,2499,2506,2513,2527,2534,2541,2548,2562,2569,2576,2583,2597,2604,2611,2618,2632,2639,2646,2653,2667,2674,2681,2688,2702,2709,2716,2723,2737,2744,2751,2758,2772,2779,2786,2793,2807,2814,2821,2828,2842,2849,2856,2863,2877,2884,2891,2898,2912,2919,2926,2933,2947,2954,2961,2968,2982,2989,2996,3003,3017,3024,3031,3038,3052,3059,3066,3073,3087,3094,3101,3108,3122,3129,3136,3143,3157,3164,3171,3178,3192,3199\n"
     ]
    }
   ],
   "source": [
    "# Q1\n",
    "\n",
    "R = []\n",
    "for number in range(2000, 3201): \n",
    "    if number % 7 == 0 and number % 5 != 0:\n",
    "        result.append(str(number))\n",
    "print(','.join(result))\n"
   ]
  },
  {
   "cell_type": "code",
   "execution_count": 4,
   "id": "e2934a94",
   "metadata": {},
   "outputs": [
    {
     "name": "stdout",
     "output_type": "stream",
     "text": [
      "Enter a sentence: Hello World\n",
      "Uppercase letters:  2\n",
      "Lowercase letters:  8\n"
     ]
    }
   ],
   "source": [
    "# Q2\n",
    "\n",
    "def count_upper_lower(sentence):\n",
    "    upper_count = 0\n",
    "    lower_count = 0\n",
    "\n",
    "    for char in sentence:\n",
    "        if char.isupper():\n",
    "            upper_count += 1\n",
    "        elif char.islower():\n",
    "            lower_count += 1\n",
    "\n",
    "    \n",
    "    print(\"Uppercase letters: \", upper_count)\n",
    "    print(\"Lowercase letters: \", lower_count)\n",
    "\n",
    "input_sentence = input(\"Enter a sentence: \")\n",
    "\n",
    "count_upper_lower(input_sentence)"
   ]
  },
  {
   "cell_type": "code",
   "execution_count": null,
   "id": "11161fe0",
   "metadata": {},
   "outputs": [],
   "source": [
    "# Q3\n",
    "\n",
    "# To reduce the dimensions of data we can use the PCA\n"
   ]
  },
  {
   "cell_type": "code",
   "execution_count": null,
   "id": "47cb319a",
   "metadata": {},
   "outputs": [],
   "source": [
    "# Q4\n",
    "\n",
    "# check for\n",
    "\n",
    "# Imbalanced Classes\n",
    "# Evaluation Metrics\n",
    "# Cross-Validation"
   ]
  },
  {
   "cell_type": "code",
   "execution_count": null,
   "id": "9529a64c",
   "metadata": {},
   "outputs": [],
   "source": [
    "# Q6\n",
    "\n",
    "we can use \n",
    "\n",
    "Regularization Techniques:\n",
    "\n",
    "Techniques such as L1 or L2  regularization in the model.\n",
    "\n",
    "Ensemble Methods:\n",
    "\n",
    "Ensemble methods, such as Random Forests or  boostong techniques such as Gradient Boosting or Adaboost"
   ]
  },
  {
   "cell_type": "code",
   "execution_count": null,
   "id": "bf0accf5",
   "metadata": {},
   "outputs": [],
   "source": [
    "# Q7\n",
    "\n",
    "If your dataset contains a large number of variables, some of which are highly correlated, PCA can help in \n",
    "reducing the dimensionality yes we can remove correlated variables."
   ]
  },
  {
   "cell_type": "code",
   "execution_count": null,
   "id": "3b78b663",
   "metadata": {},
   "outputs": [],
   "source": [
    "# Q9\n",
    "\n",
    "Ridge Regression and Lasso Regression are both regularization techniques used in linear regression to handle \n",
    "multicollinearity and prevent overfitting.\n",
    "The choice of Ridge and Lasso depends on the characteristics of the dataset \n",
    "Ridge Regression performs well when there is multicollinearity among variables.\n"
   ]
  },
  {
   "cell_type": "code",
   "execution_count": null,
   "id": "09325b9b",
   "metadata": {},
   "outputs": [],
   "source": [
    "# Q10\n",
    "in tree calssification first we want to \n",
    "claculate the entropy of parent \n",
    "calculate entropy of childrens\n",
    "calculate information gain or gini index\n",
    "calculate all this for remaning columns\n",
    "choose the root node which col has high information gain\n",
    "After selecting root node tree classifier will split the data."
   ]
  },
  {
   "cell_type": "code",
   "execution_count": 11,
   "id": "c2db1b63",
   "metadata": {},
   "outputs": [
    {
     "name": "stdout",
     "output_type": "stream",
     "text": [
      "First Half: (1, 2, 3, 4, 5)\n",
      "Second Half: (6, 7, 8, 9, 10)\n"
     ]
    }
   ],
   "source": [
    "# Q13 my_tuple = (1, 2, 3, 4, 5, 6, 7, 8, 9, 10)\n",
    "\n",
    "midpoint = len(my_tuple) // 2\n",
    "print(\"First Half:\", end=\" \")\n",
    "print(my_tuple[:midpoint], sep=\", \")\n",
    "print(\"Second Half:\", end=\" \")\n",
    "print(my_tuple[midpoint:], sep=\", \")\n"
   ]
  },
  {
   "cell_type": "code",
   "execution_count": null,
   "id": "9cc3cfd6",
   "metadata": {},
   "outputs": [],
   "source": []
  }
 ],
 "metadata": {
  "kernelspec": {
   "display_name": "Python 3 (ipykernel)",
   "language": "python",
   "name": "python3"
  },
  "language_info": {
   "codemirror_mode": {
    "name": "ipython",
    "version": 3
   },
   "file_extension": ".py",
   "mimetype": "text/x-python",
   "name": "python",
   "nbconvert_exporter": "python",
   "pygments_lexer": "ipython3",
   "version": "3.9.7"
  }
 },
 "nbformat": 4,
 "nbformat_minor": 5
}
